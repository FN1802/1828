{
 "cells": [
  {
   "cell_type": "code",
   "execution_count": 13,
   "id": "7fb60070",
   "metadata": {},
   "outputs": [
    {
     "name": "stdout",
     "output_type": "stream",
     "text": [
      "[('Bakerloo', 'Harrow & Wealdstone', 'Kenton'), ('Bakerloo', 'Kenton', 'South Kenton'), ('Bakerloo', 'South Kenton', 'North Wembley'), ('Bakerloo', 'North Wembley', 'Wembley Central'), ('Bakerloo', 'Wembley Central', 'Stonebridge Park'), ('Bakerloo', 'Stonebridge Park', 'Harlesden'), ('Bakerloo', 'Harlesden', 'Willesden Junction'), ('Bakerloo', 'Willesden Junction', 'Kensal Green'), ('Bakerloo', 'Kensal Green', \"Queen's Park\"), ('Bakerloo', \"Queen's Park\", 'Kilburn Park')]\n"
     ]
    }
   ],
   "source": [
    "import openpyxl\n",
    "\n",
    "# Load the Excel file\n",
    "wb = openpyxl.load_workbook('London Underground data.xlsx')\n",
    "sheet = wb.active\n",
    "\n",
    "# Extract data from the Excel sheet\n",
    "graph_data = []\n",
    "for row in sheet.iter_rows(min_row=2, max_col=3, values_only=True):\n",
    "    station_a, station_b, travel_time = row\n",
    "    if station_a and station_b and travel_time:  # Ensure valid data\n",
    "        graph_data.append((station_a, station_b, travel_time))\n",
    "\n",
    "print(graph_data[:10])  # Preview the data\n"
   ]
  },
  {
   "cell_type": "code",
   "execution_count": 1,
   "id": "8fc1f620",
   "metadata": {},
   "outputs": [
    {
     "ename": "NameError",
     "evalue": "name 'graph' is not defined",
     "output_type": "error",
     "traceback": [
      "\u001b[1;31m---------------------------------------------------------------------------\u001b[0m",
      "\u001b[1;31mNameError\u001b[0m                                 Traceback (most recent call last)",
      "Cell \u001b[1;32mIn[1], line 6\u001b[0m\n\u001b[0;32m      1\u001b[0m \u001b[38;5;28;01mfrom\u001b[39;00m \u001b[38;5;21;01mmst\u001b[39;00m \u001b[38;5;28;01mimport\u001b[39;00m kruskal  \u001b[38;5;66;03m# Correct the import statement\u001b[39;00m\n\u001b[0;32m      3\u001b[0m \u001b[38;5;66;03m# Assume 'graph' is already defined and populated with edges\u001b[39;00m\n\u001b[0;32m      4\u001b[0m \n\u001b[0;32m      5\u001b[0m \u001b[38;5;66;03m# Compute MST using Kruskal's algorithm\u001b[39;00m\n\u001b[1;32m----> 6\u001b[0m mst \u001b[38;5;241m=\u001b[39m kruskal(\u001b[43mgraph\u001b[49m)\n\u001b[0;32m      8\u001b[0m \u001b[38;5;66;03m# Extract edges in the MST\u001b[39;00m\n\u001b[0;32m      9\u001b[0m mst_edges \u001b[38;5;241m=\u001b[39m mst\u001b[38;5;241m.\u001b[39mget_edges()\n",
      "\u001b[1;31mNameError\u001b[0m: name 'graph' is not defined"
     ]
    }
   ],
   "source": [
    "from mst import kruskal\n",
    "\n",
    "# Assume 'graph' is already defined and populated with edges\n",
    "\n",
    "# Compute MST using Kruskal's algorithm\n",
    "mst = kruskal(graph)\n",
    "\n",
    "# Extract edges in the MST\n",
    "mst_edges = mst.get_edges()\n",
    "print(\"MST Edges:\", mst_edges)"
   ]
  },
  {
   "cell_type": "code",
   "execution_count": null,
   "id": "6339c2a8",
   "metadata": {},
   "outputs": [],
   "source": []
  },
  {
   "cell_type": "code",
   "execution_count": null,
   "id": "42490e21",
   "metadata": {},
   "outputs": [],
   "source": []
  }
 ],
 "metadata": {
  "kernelspec": {
   "display_name": "Python 3 (ipykernel)",
   "language": "python",
   "name": "python3"
  },
  "language_info": {
   "codemirror_mode": {
    "name": "ipython",
    "version": 3
   },
   "file_extension": ".py",
   "mimetype": "text/x-python",
   "name": "python",
   "nbconvert_exporter": "python",
   "pygments_lexer": "ipython3",
   "version": "3.9.16"
  }
 },
 "nbformat": 4,
 "nbformat_minor": 5
}
